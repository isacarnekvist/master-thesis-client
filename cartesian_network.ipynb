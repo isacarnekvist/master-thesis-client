{
 "cells": [
  {
   "cell_type": "code",
   "execution_count": 1,
   "metadata": {
    "collapsed": false
   },
   "outputs": [
    {
     "name": "stderr",
     "output_type": "stream",
     "text": [
      "Using Theano backend.\n"
     ]
    }
   ],
   "source": [
    "import sys\n",
    "import pickle\n",
    "import threading\n",
    "if sys.version_info.major == 2:\n",
    "    from Queue import Queue\n",
    "else:\n",
    "    from queue import Queue\n",
    "\n",
    "import keras\n",
    "import theano\n",
    "import numpy as np\n",
    "import theano.tensor as T\n",
    "from keras import backend as K\n",
    "from keras.optimizers import Adam\n",
    "from keras.models import Sequential, Model\n",
    "from keras.layers import Dense, Merge, Input, Lambda, merge, Layer\n",
    "\n",
    "import matplotlib.pyplot as plt\n",
    "from mpl_toolkits.mplot3d import Axes3D\n",
    "\n",
    "from environment import Environment\n",
    "from priority_buffer import PriorityBuffer"
   ]
  },
  {
   "cell_type": "code",
   "execution_count": 3,
   "metadata": {
    "collapsed": false,
    "scrolled": false
   },
   "outputs": [
    {
     "name": "stdout",
     "output_type": "stream",
     "text": [
      "____________________________________________________________________________________________________\n",
      "Layer (type)                     Output Shape          Param #     Connected to                     \n",
      "====================================================================================================\n",
      "x (InputLayer)                   (None, 7)             0                                            \n",
      "____________________________________________________________________________________________________\n",
      "A (A)                            (None, 1)             0           x[0][0]                          \n",
      "====================================================================================================\n",
      "Total params: 0\n",
      "Trainable params: 0\n",
      "Non-trainable params: 0\n",
      "____________________________________________________________________________________________________\n"
     ]
    }
   ],
   "source": [
    "class A(Layer):\n",
    "    \n",
    "    # inputs are L and U and mu (in that order)\n",
    "    def __init__(self, u_size, **kwargs):\n",
    "        self.u_size = u_size\n",
    "        self.lower_size = int(u_size * (u_size + 1) / 2.0)\n",
    "        self.l_idx = list(range(self.lower_size))\n",
    "        super(A, self).__init__(**kwargs)\n",
    "\n",
    "        # Some precalculating for call()\n",
    "        self.diag_idx = list(range(u_size))\n",
    "        self.lower_idx1 = []\n",
    "        self.lower_idx2 = []\n",
    "        for i in self.diag_idx:\n",
    "            for j in range(i):\n",
    "                self.lower_idx1.append(i)\n",
    "                self.lower_idx2.append(j)\n",
    "\n",
    "    def build(self, input_shape):\n",
    "        super(A, self).build(self.lower_size + self.u_size)\n",
    "        \n",
    "    def get_output_shape_for(self, input_shape):\n",
    "        return (None, 1)\n",
    "        \n",
    "    def _p(self, x):\n",
    "        l = T.zeros((x.shape[0], self.u_size, self.u_size))\n",
    "        l = T.set_subtensor(l[:, self.diag_idx, self.diag_idx], T.exp(x[:, self.diag_idx]))\n",
    "        if self.u_size > 1:\n",
    "            l = T.set_subtensor(\n",
    "                l[:, self.lower_idx1, self.lower_idx2],\n",
    "                x[:, self.u_size:self.u_size + self.u_size]\n",
    "            )\n",
    "        return K.batch_dot(l, K.permute_dimensions(l, [0, 2, 1]))\n",
    "    \n",
    "    def call(self, x, mask=None):\n",
    "        p = self._p(x[:, :self.lower_size])\n",
    "        u = x[:, self.lower_size:self.lower_size + self.u_size]\n",
    "        mu = x[:, self.lower_size + self.u_size:]\n",
    "        d = K.expand_dims(u - mu, -1)\n",
    "        a = -T.batched_dot(K.batch_dot(K.permute_dimensions(d, (0,2,1)), p), d)\n",
    "        return a.reshape((x.shape[0], 1))\n",
    "    \n",
    "u_size = 2\n",
    "input_size = 3 + 2 * u_size\n",
    "x = Input(shape=(input_size, ), name='x')\n",
    "a = A(u_size=u_size, name='A')(x)\n",
    "xs = np.random.randn(10, input_size)\n",
    "a.shape[1]\n",
    "m = Model(input=x, output=a)\n",
    "m.summary()"
   ]
  },
  {
   "cell_type": "code",
   "execution_count": 4,
   "metadata": {
    "collapsed": false
   },
   "outputs": [],
   "source": [
    "class NAFNet2():\n",
    "    \n",
    "    def __init__(self, x_size, u_size, hidden_size=100):\n",
    "        self.x_size = x_size\n",
    "        self.u_size = u_size\n",
    "        self.hidden_size = hidden_size\n",
    "    \n",
    "        self.x = Input(shape=(self.x_size, ), name='x')\n",
    "        fc1 = Dense(input_dim=self.x_size, output_dim=self.hidden_size, activation='relu', name='fc1')(self.x)\n",
    "        fc2 = Dense(input_dim=self.hidden_size, output_dim=self.hidden_size, activation='relu', name='fc2')(fc1)\n",
    "        \n",
    "        v = Dense(input_dim=self.hidden_size, output_dim=1, name='v')(fc2)\n",
    "        self.v = Model(input=self.x, output=v)\n",
    "        self.v.build(input_shape=(self.x_size, ))\n",
    "        \n",
    "        mu = Dense(input_dim=self.hidden_size, output_dim=2, activation='tanh', name='mu_dense')(fc2)\n",
    "        self.mu = Model(input=self.x, output=mu)\n",
    "        self.mu.build(input_shape=(self.x_size, ))\n",
    "        \n",
    "        l_all = Dense(\n",
    "            input_dim=self.hidden_size,\n",
    "            output_dim=int(self.u_size * (self.u_size + 1) / 2.0)\n",
    "        )(fc2)\n",
    "        \n",
    "        self.l_all = Model(input=self.x, output=l_all)\n",
    "        \n",
    "        u = Input(shape=(self.u_size, ), name='u')\n",
    "        a = A(u_size=self.u_size, name='A')\n",
    "        \n",
    "        \n",
    "        self.u = Model(input=u, output=u, name='u_model')\n",
    "        self.a = Sequential(\n",
    "            layers=[\n",
    "                Merge([self.l_all, self.u, self.mu], mode='concat', name='merge_for_p'),\n",
    "                a\n",
    "            ]\n",
    "        )\n",
    "        \n",
    "        self.q = Sequential(layers=[Merge([self.a, self.v])])\n",
    "        adam = Adam(lr=0.0001)\n",
    "        self.q.compile(loss='mse', optimizer=adam)\n",
    "        \n",
    "nn2 = NAFNet2(x_size=4, u_size=2)"
   ]
  },
  {
   "cell_type": "code",
   "execution_count": 5,
   "metadata": {
    "collapsed": false
   },
   "outputs": [
    {
     "data": {
      "image/png": "[encoded data removed]",
      "text/plain": [
       "<matplotlib.figure.Figure at 0x106a18c88>"
      ]
     },
     "metadata": {},
     "output_type": "display_data"
    }
   ],
   "source": [
    "def random_in_range(a, b):\n",
    "    if b < a:\n",
    "        raise ValueError('b should not be less than a')\n",
    "    return np.random.rand() * (b - a) + a\n",
    "\n",
    "e = Environment()\n",
    "e.plot()\n",
    "plt.show()\n",
    "\n",
    "def create_state_vector(eef_x, eef_y, goal_x, goal_y):\n",
    "    return np.array([\n",
    "        [eef_x, eef_y, goal_x, goal_y]\n",
    "    ], dtype=np.float32)"
   ]
  },
  {
   "cell_type": "code",
   "execution_count": null,
   "metadata": {
    "collapsed": false
   },
   "outputs": [],
   "source": [
    "print(e.move(0.10, -0.05))\n",
    "e.plot()\n",
    "plt.show()"
   ]
  },
  {
   "cell_type": "code",
   "execution_count": null,
   "metadata": {
    "collapsed": false
   },
   "outputs": [],
   "source": [
    "def plot_v(nn, goal_x=0.0, goal_y=0.2):\n",
    "    fig = plt.figure(figsize=(10, 10))\n",
    "    ax = fig.add_subplot(111, projection='3d')\n",
    "    xs = np.linspace(-0.15, 0.15, 40)\n",
    "    ys = np.linspace(0.10, 0.30, 40)\n",
    "    xss, yss = np.meshgrid(xs, ys)\n",
    "    zss = np.zeros(xss.shape)\n",
    "    u = np.array([[]])\n",
    "    for i, x in enumerate(xs):\n",
    "        for j, y in enumerate(ys):\n",
    "            zss[j, i] = nn2.v.predict(create_state_vector(x, y, goal_x, goal_y))[0, 0]\n",
    "    ax.plot_surface(xss, yss, zss, cmap='viridis')\n",
    "    plt.show()\n",
    "    \n",
    "def plot_v_heat(nn, goal_x=0.0, goal_y=0.2):\n",
    "    xs = np.linspace(-0.15, 0.15, 12)\n",
    "    ys = np.linspace(0.10, 0.30, 12)\n",
    "    xss, yss = np.meshgrid(xs, ys)\n",
    "    zss = np.zeros(xss.shape)\n",
    "    for i, x in enumerate(xs):\n",
    "        for j, y in enumerate(ys):\n",
    "            zss[len(ys) - j - 1, i] = nn2.v.predict(create_state_vector(x, y, goal_x, goal_y))[0, 0]\n",
    "    plt.imshow(zss, cmap='jet', interpolation='gaussian', aspect='auto',\n",
    "               extent=[-0.15, 0.15, 0.15, 0.30])\n",
    "    plt.plot(goal_x, goal_y, 'ko', markersize=8)\n",
    "    plt.plot(goal_x, goal_y, 'ro', markersize=6)\n",
    "    plt.colorbar().set_label('$V(\\mathbf{x})$')\n",
    "    \n",
    "plot_v_heat(nn2)\n",
    "plt.show()"
   ]
  },
  {
   "cell_type": "code",
   "execution_count": null,
   "metadata": {
    "collapsed": false,
    "scrolled": false
   },
   "outputs": [],
   "source": [
    "def plot_pi(nn, goal_x=0.0, goal_y=0.2):\n",
    "    for x in np.linspace(-0.15, 0.15, 20):\n",
    "        for y in np.linspace(0.15, 0.30, 20):\n",
    "            X = np.array([[x, y, goal_x, goal_y]])\n",
    "            dx, dy = 0.1 * nn.mu.predict(X)[0, :]\n",
    "            plt.arrow(x, y, dx / 1.2, dy / 1.2)\n",
    "            plt.plot(goal_x, goal_y, 'ko', markersize=8)\n",
    "            plt.plot(goal_x, goal_y, 'ro', markersize=6)\n",
    "    plt.title('$\\mathbf{\\mu(x)}$')\n",
    "    plt.xlim(-0.15, 0.15)\n",
    "    plt.ylim(0.15, 0.30)\n",
    "    \n",
    "start = np.array([-0.10, 0.28])\n",
    "end = np.array([0.10, 0.17])\n",
    "n_steps = 4\n",
    "plt.figure(figsize=(12, 14))\n",
    "for i in range(n_steps):\n",
    "    goal_x, goal_y = start + i / (n_steps - 1) * (end - start)\n",
    "    plt.subplot(420 + 2 * i + 1)\n",
    "    plot_pi(nn2, goal_x=goal_x, goal_y=goal_y)\n",
    "    plt.subplot(420 + 2 * i + 2)\n",
    "    plot_v_heat(nn2, goal_x=goal_x, goal_y=goal_y)\n",
    "plt.savefig('moving_goal_summary.pdf')\n",
    "plt.show()"
   ]
  },
  {
   "cell_type": "code",
   "execution_count": null,
   "metadata": {
    "collapsed": false,
    "scrolled": true
   },
   "outputs": [],
   "source": [
    "# batch_size = 512\n",
    "#replay_buffer = PriorityBuffer(2 ** 18)\n",
    "gamma = 0.98\n",
    "epsilon = 0.1\n",
    "\n",
    "#todo: check importance weights annealing if they seem to matter\n",
    "#   2: try moving goal\n",
    "\n",
    "n_iterations = 256.0\n",
    "#a = 0\n",
    "for a in range(a, int(n_iterations)):\n",
    "    e.reset()\n",
    "    for b in range(batch_size):\n",
    "        x1 = (e.eef_x, e.eef_y, e.goal_x, e.goal_y)\n",
    "        mu = 0.1 * nn2.mu.predict(create_state_vector(*x1))\n",
    "        noise = np.random.randn(1, 2) / 30.0\n",
    "        reward = e.move(*(mu + noise)[0, :])\n",
    "        x2 = (e.eef_x, e.eef_y, e.goal_x, e.goal_y)\n",
    "        replay_buffer.add({\n",
    "            'x1': x1,\n",
    "            'x2': x2,\n",
    "            'u': mu + noise,\n",
    "            'r': reward\n",
    "        }).set_value(10.0)\n",
    "        if reward == -2:\n",
    "            e.reset()\n",
    "        if np.sqrt((e.eef_x - e.goal_x) ** 2 + (e.eef_y - e.goal_y) ** 2) < 0.01:\n",
    "            e.reset()\n",
    "        \n",
    "    for i in range(32):\n",
    "        X = np.zeros((batch_size, 4))\n",
    "        Xp = np.zeros((batch_size, 4))\n",
    "        U = np.zeros((batch_size, 2))\n",
    "        R = np.zeros((batch_size, 1))\n",
    "        exp_nodes = []\n",
    "        for b in range(batch_size):\n",
    "            sample = replay_buffer.sample()\n",
    "            exp_nodes.append(sample)\n",
    "            X[b, :] = create_state_vector(*sample.data['x1'])\n",
    "            Xp[b, :] = create_state_vector(*sample.data['x2'])\n",
    "            R[b, :] = sample.data['r']\n",
    "            U[b, :] = sample.data['u']\n",
    "        V = nn2.v.predict(Xp)\n",
    "        Y = R + gamma * V\n",
    "        Q = nn2.q.predict([X, U])\n",
    "        [node.set_value(abs(delta) + epsilon) for node, delta in zip(exp_nodes, (Q - Y)[:, 0])]\n",
    "        beta = np.exp((a - n_iterations) / (0.1 * n_iterations))\n",
    "        sample_weights = np.array([1.0 / node.value for node in exp_nodes]) ** beta\n",
    "        sample_weights /= sample_weights.sum()\n",
    "        if a % 1 == 0 and i == 31:\n",
    "            print(replay_buffer)\n",
    "            print('beta:', beta)\n",
    "            nn2.q.fit([X, U], Y, verbose=1, nb_epoch=10, sample_weight=sample_weights)\n",
    "            plt.figure(figsize=(8, 6))\n",
    "            for x in np.linspace(-0.15, 0.15, 20):\n",
    "                for y in np.linspace(0.10, 0.30, 20):\n",
    "                    X = np.array([[x, y, 0.0, 0.20]])\n",
    "                    dx, dy = 0.1 * nn2.mu.predict(X)[0, :]\n",
    "                    plt.plot(0.0, 0.2, 'ro')\n",
    "                    plt.arrow(x, y, dx / 2, dy / 2)\n",
    "            print(dx, dy)\n",
    "            plt.xlim(-0.15, 0.15)\n",
    "            plt.ylim(0.10, 0.30)\n",
    "            plt.show()\n",
    "            plot_v_heat(nn2)\n",
    "        else:\n",
    "            nn2.q.fit([X, U], Y, verbose=0, nb_epoch=10, sample_weight=sample_weights)"
   ]
  },
  {
   "cell_type": "code",
   "execution_count": null,
   "metadata": {
    "collapsed": true
   },
   "outputs": [],
   "source": []
  }
 ],
 "metadata": {
  "kernelspec": {
   "display_name": "Python 3",
   "language": "python",
   "name": "python3"
  },
  "language_info": {
   "codemirror_mode": {
    "name": "ipython",
    "version": 3
   },
   "file_extension": ".py",
   "mimetype": "text/x-python",
   "name": "python",
   "nbconvert_exporter": "python",
   "pygments_lexer": "ipython3",
   "version": "3.6.0"
  }
 },
 "nbformat": 4,
 "nbformat_minor": 2
}
