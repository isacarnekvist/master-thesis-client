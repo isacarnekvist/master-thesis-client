{
 "cells": [
  {
   "cell_type": "code",
   "execution_count": 1,
   "metadata": {
    "collapsed": false
   },
   "outputs": [],
   "source": [
    "import pickle\n",
    "import threading\n",
    "from time import sleep\n",
    "from copy import deepcopy\n",
    "from queue import Queue, Empty\n",
    "\n",
    "import pyuarm\n",
    "import theano\n",
    "from theano import tensor\n",
    "import numpy as np\n",
    "from scipy.spatial.distance import euclidean\n",
    "from pyuarm.protocol import SERVO_BOTTOM, SERVO_LEFT, SERVO_RIGHT, SERVO_HAND\n",
    "import matplotlib.pyplot as plt\n",
    "from scipy.stats import linregress\n",
    "\n",
    "SERVOS = [SERVO_BOTTOM, SERVO_LEFT, SERVO_RIGHT, SERVO_HAND]\n",
    "\n",
    "def to_deg(rad):\n",
    "    return 180 * rad / np.pi\n",
    "\n",
    "def to_rad(deg):\n",
    "    return np.pi * deg / 180.0"
   ]
  },
  {
   "cell_type": "code",
   "execution_count": 2,
   "metadata": {
    "collapsed": false
   },
   "outputs": [
    {
     "data": {
      "text/plain": [
       "(1.2246467991473534e-17, 0.20000000000000004, 0.020000000000000018)"
      ]
     },
     "execution_count": 2,
     "metadata": {},
     "output_type": "execute_result"
    }
   ],
   "source": [
    "k1 = OF = 0.107\n",
    "k2 = FA = 0.02\n",
    "k3 = AB = 0.148\n",
    "k4 = BC = 0.16\n",
    "k5 = CE = 0.035\n",
    "k6 = DE = 0.06\n",
    "\n",
    "def forward(alpha, beta, gamma):\n",
    "    r = k2 + k3 * np.cos(alpha) + k4 * np.cos(beta) + k5\n",
    "    z = k1 + k3 * np.sin(alpha) + k4 * np.sin(beta) - k6\n",
    "    return r * np.cos(gamma), r * np.sin(gamma), z\n",
    "\n",
    "def inverse(x, y, z):\n",
    "    # Polar coordinates, solve in vertical 2D plane\n",
    "    gamma = np.arctan2(y, x)\n",
    "    r = np.sqrt(x ** 2 + y ** 2) - k2 - k5\n",
    "    # Calculate from first joint to end of forearm\n",
    "    z_p = z - k1 + k6\n",
    "    alpha_part = np.arctan2(z_p, r)\n",
    "    # Rotate so triangle base joint, next joint, end of forearm \"lies down\"\n",
    "    r_pp = r * np.cos(-alpha_part) - z_p * np.sin(-alpha_part)\n",
    "    z_pp = r * np.sin(-alpha_part) + z_p * np.cos(-alpha_part)\n",
    "    alpha_rest = np.arccos((k3 ** 2 + r_pp ** 2 - k4 ** 2) / (2 * k3 * r_pp))\n",
    "    alpha = alpha_part + alpha_rest\n",
    "    top_angle = np.arccos((k3 ** 2 - r_pp ** 2 + k4 ** 2) / (2 * k3 * k4))\n",
    "    beta = np.arctan2(z_p - k3 * np.sin(alpha), r - k3 * np.cos(alpha))\n",
    "    return alpha, beta, gamma\n",
    "    \n",
    "inverse(0, 0.2, 0.02)\n",
    "forward(*inverse(0, 0.2, 0.02))"
   ]
  },
  {
   "cell_type": "code",
   "execution_count": 3,
   "metadata": {
    "collapsed": true
   },
   "outputs": [],
   "source": [
    "def detach_all():\n",
    "    for s in SERVOS:\n",
    "        arm.set_servo_detach(s)\n",
    "        \n",
    "def attach_all():\n",
    "    for s in SERVOS:\n",
    "        arm.set_servo_attach(s)"
   ]
  },
  {
   "cell_type": "code",
   "execution_count": 4,
   "metadata": {
    "collapsed": false
   },
   "outputs": [
    {
     "name": "stderr",
     "output_type": "stream",
     "text": [
      "pyuarm - INFO - pyuarm version: 2.2.5.3\n",
      "pyuarm - INFO - Connecting from port - /dev/cu.usbserial-AI04HYRU...\n",
      "pyuarm - INFO - Connected...\n",
      "pyuarm - INFO - Firmware Version: 2.2.1\n"
     ]
    }
   ],
   "source": [
    "arm = pyuarm.get_uarm()"
   ]
  },
  {
   "cell_type": "code",
   "execution_count": 35,
   "metadata": {
    "collapsed": false,
    "scrolled": true
   },
   "outputs": [],
   "source": [
    "UPDATE_FREQ = 128 # Hz\n",
    "\n",
    "class Arm():\n",
    "    \n",
    "    def __init__(self, arm=None):\n",
    "        self._target = None\n",
    "        self._cancel_worker = False\n",
    "        if arm is None:\n",
    "            self._arm = pyuarm.get_uarm()\n",
    "        else:\n",
    "            self._arm = arm\n",
    "        with open('uarm_params.pkl', 'rb') as f:\n",
    "            self._uarm_params = pickle.load(f)\n",
    "        self._queue = []\n",
    "        self._worker_thread = threading.Thread(target=self._worker)\n",
    "        self._worker_thread.start()\n",
    "        \n",
    "    def disconnect(self):\n",
    "        self._arm.disconnect()\n",
    "        \n",
    "    def stop(self):\n",
    "        self._cancel_worker = True\n",
    "        \n",
    "    def cartesian_to_servo_angles(self, x, y, z):\n",
    "        alpha_ideal, beta_ideal, gamma_ideal = map(to_deg, inverse(x, y, z))\n",
    "        ideal_real = self._uarm_params['ideal_real']\n",
    "        return (\n",
    "            ideal_real[SERVO_LEFT]['slope'] * alpha_ideal + ideal_real[SERVO_LEFT]['intercept'],\n",
    "            ideal_real[SERVO_RIGHT]['slope'] * beta_ideal + ideal_real[SERVO_RIGHT]['intercept'],\n",
    "            ideal_real[SERVO_BOTTOM]['slope'] * gamma_ideal + ideal_real[SERVO_BOTTOM]['intercept'],\n",
    "        )\n",
    "    \n",
    "    def servo_angles_to_cartesian(self, alpha, beta, gamma):\n",
    "        ideal_real = self._uarm_params['ideal_real']\n",
    "        alpha_p = to_rad((alpha - ideal_real[SERVO_LEFT]['intercept']) / ideal_real[SERVO_LEFT]['slope'])\n",
    "        beta_p = to_rad((beta - ideal_real[SERVO_RIGHT]['intercept']) / ideal_real[SERVO_RIGHT]['slope'])\n",
    "        gamma_p = to_rad((gamma - ideal_real[SERVO_BOTTOM]['intercept']) / ideal_real[SERVO_BOTTOM]['slope'])\n",
    "        return forward(alpha_p, beta_p, gamma_p)\n",
    "    \n",
    "    def servo_angles_to_command(self, alpha, beta, gamma):\n",
    "        km = self._uarm_params['commanded_measured']\n",
    "        return (\n",
    "            (alpha - km[SERVO_LEFT]['intercept']) / km[SERVO_LEFT]['slope'],\n",
    "            (beta - km[SERVO_RIGHT]['intercept']) / km[SERVO_RIGHT]['slope'],\n",
    "            (gamma - km[SERVO_BOTTOM]['intercept']) / km[SERVO_BOTTOM]['slope'],\n",
    "        )\n",
    "        \n",
    "    def get_position(self):\n",
    "        return self.servo_angles_to_cartesian(\n",
    "            self._arm.get_servo_angle(SERVO_LEFT),\n",
    "            self._arm.get_servo_angle(SERVO_RIGHT),\n",
    "            self._arm.get_servo_angle(SERVO_BOTTOM),\n",
    "        )\n",
    "    \n",
    "    def _set_angles(self, alpha, beta, gamma):\n",
    "        self._arm.set_servo_angle(SERVO_LEFT, alpha)\n",
    "        self._arm.set_servo_angle(SERVO_RIGHT, beta)\n",
    "        self._arm.set_servo_angle(SERVO_BOTTOM, gamma)\n",
    "        \n",
    "    def _set_cartesian(self, x, y, z):\n",
    "        a = self.cartesian_to_servo_angles(x, y, z)\n",
    "        b = self.servo_angles_to_command(*a)\n",
    "        self._set_angles(*b)\n",
    "        \n",
    "    def set_pump(on):\n",
    "        self._arm.set_pump(on)\n",
    "        \n",
    "    def move_to(self, x, y, z, duration=None, velocity=None):\n",
    "        \"\"\"\n",
    "        x, y, z : float\n",
    "            meter\n",
    "        duration : float\n",
    "            seconds\n",
    "        velocity : float\n",
    "            m / s, ignored if duration is specified\n",
    "        \"\"\"\n",
    "        # add extreme safety bounds here!\n",
    "        \n",
    "        if duration is None and velocity is None:\n",
    "            self._set_cartesian(x, y, z)\n",
    "            return\n",
    "        \n",
    "        if self._queue:\n",
    "            self._queue = []\n",
    "            sleep(0.5)\n",
    "        \n",
    "        a = np.array(self.get_position())\n",
    "        b = np.array([x, y, z])\n",
    "        distance = euclidean(a, b)\n",
    "        if velocity is not None:\n",
    "            duration = distance / velocity\n",
    "            \n",
    "        # invariant: we have a, b, and duration\n",
    "        n_pieces = UPDATE_FREQ * duration\n",
    "        for i in range(1, int(n_pieces + 1)):\n",
    "            partial_dist = i * distance / n_pieces\n",
    "            x = a + (b - a) * i / n_pieces\n",
    "            self._queue.append((x[0], x[1], x[2]))\n",
    "        return\n",
    "    \n",
    "    def _worker(self):\n",
    "        while not self._cancel_worker:\n",
    "            try:\n",
    "                x, y, z = self._queue[0]\n",
    "                self._queue = self._queue[1:]\n",
    "                self._set_cartesian(x, y, z)\n",
    "            except IndexError:\n",
    "                pass\n",
    "            sleep(1.0 / UPDATE_FREQ)\n",
    "            \n",
    "try:\n",
    "    a.stop()\n",
    "except:\n",
    "    pass\n",
    "a = Arm(arm=arm)\n",
    "a.move_to(0.1, 0.25, 0.02, velocity=0.5)"
   ]
  },
  {
   "cell_type": "code",
   "execution_count": 46,
   "metadata": {
    "collapsed": false
   },
   "outputs": [
    {
     "name": "stderr",
     "output_type": "stream",
     "text": [
      "pyuarm - INFO - Disconnect from port - /dev/cu.usbserial-AI04HYRU...\n"
     ]
    }
   ],
   "source": [
    "arm.disconnect()"
   ]
  },
  {
   "cell_type": "code",
   "execution_count": 39,
   "metadata": {
    "collapsed": false,
    "scrolled": false
   },
   "outputs": [],
   "source": [
    "a.move_to(0.0, 0.20, 0.07, velocity=0.5)"
   ]
  },
  {
   "cell_type": "code",
   "execution_count": 40,
   "metadata": {
    "collapsed": false
   },
   "outputs": [
    {
     "data": {
      "text/plain": [
       "True"
      ]
     },
     "execution_count": 40,
     "metadata": {},
     "output_type": "execute_result"
    }
   ],
   "source": [
    "arm.set_pump(0)"
   ]
  },
  {
   "cell_type": "code",
   "execution_count": 144,
   "metadata": {
    "collapsed": false
   },
   "outputs": [
    {
     "name": "stderr",
     "output_type": "stream",
     "text": [
      "pyuarm - INFO - pyuarm version: 2.2.5.3\n",
      "pyuarm - INFO - pyuarm version: 2.2.5.3\n",
      "pyuarm - INFO - Connecting from port - /dev/cu.usbserial-AI04HYRU...\n",
      "pyuarm - INFO - Connecting from port - /dev/cu.usbserial-AI04HYRU...\n",
      "pyuarm - INFO - Connected...\n",
      "pyuarm - INFO - Connected...\n",
      "pyuarm - INFO - Firmware Version: 2.2.1\n",
      "pyuarm - INFO - Firmware Version: 2.2.1\n"
     ]
    }
   ],
   "source": [
    "arm = pyuarm.get_uarm()"
   ]
  },
  {
   "cell_type": "code",
   "execution_count": 94,
   "metadata": {
    "collapsed": false
   },
   "outputs": [],
   "source": [
    "def command_and_measure(servo, start_angle, arm):\n",
    "    commanded = []\n",
    "    measured = []\n",
    "    for i in range(0, 60, 5):\n",
    "        angle = start_angle + i\n",
    "        commanded.append(angle)\n",
    "        arm.set_servo_angle(servo, angle)\n",
    "        sleep(1)\n",
    "        measured.append(arm.get_servo_angle(servo))\n",
    "        sleep(0.5)\n",
    "    return commanded, measured"
   ]
  },
  {
   "cell_type": "code",
   "execution_count": 99,
   "metadata": {
    "collapsed": false
   },
   "outputs": [
    {
     "data": {
      "text/plain": [
       "True"
      ]
     },
     "execution_count": 99,
     "metadata": {},
     "output_type": "execute_result"
    }
   ],
   "source": [
    "# feasible starts: lower 50 right 40 (watch low z!), left 70\n",
    "arm.set_servo_angle(SERVO_LEFT, 110)"
   ]
  },
  {
   "cell_type": "code",
   "execution_count": 95,
   "metadata": {
    "collapsed": false
   },
   "outputs": [],
   "source": [
    "def find_linear_mappings(servo_dict, arm):\n",
    "    \"\"\"\n",
    "    {servo_enum: starting_angle}\n",
    "    \"\"\"\n",
    "    def reset():\n",
    "        for servo, start_angle in servo_dict.items():\n",
    "            arm.set_servo_angle(servo, start_angle)\n",
    "    res = dict()\n",
    "    for servo, start_angle in servo_dict.items():\n",
    "        reset()\n",
    "        sleep(1)\n",
    "        res[servo] = dict()\n",
    "        commanded, measured = command_and_measure(servo, start_angle, arm)\n",
    "        regr_res = linregress(commanded, measured)\n",
    "        res[servo]['slope'] = regr_res.slope\n",
    "        res[servo]['intercept'] = regr_res.intercept\n",
    "\n",
    "        # define function that collects data points for any servo\n",
    "\n",
    "        # calculate forward and inverse functions for angle mappings\n",
    "    return res\n",
    "    \n",
    "linear_maps = find_linear_mappings({\n",
    "    SERVO_BOTTOM: 50,\n",
    "    SERVO_LEFT: 70,\n",
    "    SERVO_RIGHT: 40\n",
    "}, arm)"
   ]
  },
  {
   "cell_type": "code",
   "execution_count": 216,
   "metadata": {
    "collapsed": false
   },
   "outputs": [
    {
     "data": {
      "text/plain": [
       "{0: {'intercept': -2.7876223776223696, 'slope': 1.075937062937063},\n",
       " 1: {'intercept': -5.2954545454545467, 'slope': 1.0458251748251748},\n",
       " 2: {'intercept': -3.6290442890442733, 'slope': 1.0634055944055945}}"
      ]
     },
     "execution_count": 216,
     "metadata": {},
     "output_type": "execute_result"
    }
   ],
   "source": [
    "linear_maps"
   ]
  },
  {
   "cell_type": "code",
   "execution_count": 52,
   "metadata": {
    "collapsed": false
   },
   "outputs": [],
   "source": [
    "# TODO:\n",
    "# 1, collect data\n",
    "# 2, find mapping\n",
    "# 3, find mapping from cartesian to real to commanded\n",
    "servo_angles.append((list(map(to_deg, inverse(0, 0.30, 0)))[0], arm.get_servo_angle(SERVO_LEFT)))"
   ]
  },
  {
   "cell_type": "code",
   "execution_count": 218,
   "metadata": {
    "collapsed": false
   },
   "outputs": [],
   "source": [
    "def coord_generator():\n",
    "    coords = [\n",
    "        [-0.10, 0.10],\n",
    "        [-0.10, 0.125],\n",
    "        [-0.10, 0.15],\n",
    "        [-0.05, 0.20],\n",
    "        [ 0.00, 0.225],\n",
    "        [ 0.00, 0.25],\n",
    "        [ 0.05, 0.25],\n",
    "        [ 0.10, 0.30],\n",
    "    ]\n",
    "    for x, y in coords:\n",
    "        yield x, y\n",
    "    \n",
    "coords = coord_generator()\n",
    "res = np.zeros((8, 5))\n",
    "i = 0\n",
    "detach_all()"
   ]
  },
  {
   "cell_type": "code",
   "execution_count": 226,
   "metadata": {
    "collapsed": false
   },
   "outputs": [],
   "source": [
    "x, y = next(coords)\n",
    "res[i, :] = [\n",
    "    x,\n",
    "    y,\n",
    "    arm.get_servo_angle(SERVO_BOTTOM),\n",
    "    arm.get_servo_angle(SERVO_LEFT),\n",
    "    arm.get_servo_angle(SERVO_RIGHT)\n",
    "]\n",
    "i += 1"
   ]
  },
  {
   "cell_type": "code",
   "execution_count": 227,
   "metadata": {
    "collapsed": false
   },
   "outputs": [],
   "source": [
    "gamma_maps = []\n",
    "beta_maps = []\n",
    "alpha_maps = []\n",
    "for x, y, bottom, left, right in res:\n",
    "    alpha_hat, beta_hat, gamma_hat = list(map(to_deg, inverse(x, y, 0.0)))\n",
    "    gamma_maps.append((gamma_hat, bottom))\n",
    "    alpha_maps.append((alpha_hat, left))\n",
    "    beta_maps.append((beta_hat, right))\n",
    "gamma_maps = np.array(gamma_maps)\n",
    "alpha_maps = np.array(alpha_maps)\n",
    "beta_maps = np.array(beta_maps)"
   ]
  },
  {
   "cell_type": "code",
   "execution_count": 287,
   "metadata": {
    "collapsed": false
   },
   "outputs": [
    {
     "data": {
      "text/plain": [
       "({0: {'intercept': 3.2643833736186707, 'slope': 0.97909512796261744},\n",
       "  1: {'intercept': 58.769516746408435, 'slope': 1.0259341908718185},\n",
       "  2: {'intercept': 26.001152383894208, 'slope': -1.07984630786173}},\n",
       " 2)"
      ]
     },
     "execution_count": 287,
     "metadata": {},
     "output_type": "execute_result"
    }
   ],
   "source": [
    "servo_angle_pairs = [\n",
    "    (SERVO_LEFT, alpha_maps),\n",
    "    (SERVO_RIGHT, beta_maps),\n",
    "    (SERVO_BOTTOM, gamma_maps),\n",
    "]\n",
    "angle_maps = dict()\n",
    "for servo, angles in servo_angle_pairs:\n",
    "    r = linregress(angles[:, 0], angles[:, 1])\n",
    "    angle_maps[servo] = {\n",
    "        'intercept': r.intercept,\n",
    "        'slope': r.slope,\n",
    "    }\n",
    "angle_maps, SERVO_RIGHT"
   ]
  },
  {
   "cell_type": "code",
   "execution_count": 288,
   "metadata": {
    "collapsed": false
   },
   "outputs": [
    {
     "data": {
      "text/plain": [
       "{0: {'intercept': 3.2643833736186707, 'slope': 0.97909512796261744},\n",
       " 1: {'intercept': 58.769516746408435, 'slope': 1.0259341908718185},\n",
       " 2: {'intercept': 26.001152383894208, 'slope': -1.07984630786173}}"
      ]
     },
     "execution_count": 288,
     "metadata": {},
     "output_type": "execute_result"
    }
   ],
   "source": [
    "uarm_params = {\n",
    "    'commanded_measured': linear_maps,\n",
    "    'ideal_real': angle_maps\n",
    "}\n",
    "with open('uarm_params.pkl', 'wb') as f:\n",
    "    pickle.dump(uarm_params, f)\n",
    "uarm_params['ideal_real']"
   ]
  },
  {
   "cell_type": "code",
   "execution_count": 28,
   "metadata": {
    "collapsed": false
   },
   "outputs": [
    {
     "name": "stderr",
     "output_type": "stream",
     "text": [
      "pyuarm - INFO - Disconnect from port - /dev/cu.usbserial-AI04HYRU...\n",
      "pyuarm - INFO - Disconnect from port - /dev/cu.usbserial-AI04HYRU...\n",
      "pyuarm - INFO - Disconnect from port - /dev/cu.usbserial-AI04HYRU...\n"
     ]
    }
   ],
   "source": [
    "arm.disconnect()"
   ]
  }
 ],
 "metadata": {
  "kernelspec": {
   "display_name": "Python 3",
   "language": "python",
   "name": "python3"
  },
  "language_info": {
   "codemirror_mode": {
    "name": "ipython",
    "version": 3
   },
   "file_extension": ".py",
   "mimetype": "text/x-python",
   "name": "python",
   "nbconvert_exporter": "python",
   "pygments_lexer": "ipython3",
   "version": "3.6.0"
  }
 },
 "nbformat": 4,
 "nbformat_minor": 2
}
