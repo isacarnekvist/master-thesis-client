{
 "cells": [
  {
   "cell_type": "code",
   "execution_count": null,
   "metadata": {
    "collapsed": false
   },
   "outputs": [],
   "source": [
    "from copy import deepcopy\n",
    "from datetime import datetime\n",
    "\n",
    "import numpy as np\n",
    "import matplotlib.pyplot as plt\n",
    "from matplotlib.colors import hsv_to_rgb\n",
    "\n",
    "from naf import NNet as NAF\n",
    "from ddpg import Actor, Critic\n",
    "from naf.priority_buffer import PriorityBuffer"
   ]
  },
  {
   "cell_type": "code",
   "execution_count": null,
   "metadata": {
    "collapsed": false,
    "scrolled": false
   },
   "outputs": [],
   "source": [
    "import numpy as np\n",
    "\n",
    "\n",
    "def random(a, b):\n",
    "    return a + (b - a) * np.random.rand()\n",
    "\n",
    "\n",
    "class Circle:\n",
    "    \n",
    "    def __init__(self, pos):\n",
    "        self.radius = 0.03\n",
    "        self.pos = pos\n",
    "        \n",
    "    def interact(self, eef):\n",
    "        d = self.pos - eef\n",
    "        theta = np.arctan2(d[1], d[0])\n",
    "        center_distance = np.linalg.norm(d)\n",
    "        distance = self.radius - center_distance\n",
    "        if center_distance > self.radius:\n",
    "            return\n",
    "        self.pos += np.array([\n",
    "            distance * np.cos(theta),\n",
    "            distance * np.sin(theta)\n",
    "        ])\n",
    "\n",
    "\n",
    "class Environment:\n",
    "    \n",
    "    def __init__(self):\n",
    "        self.max_dist = 0.01\n",
    "        self.min_x = -0.10\n",
    "        self.max_x = 0.10\n",
    "        self.min_y = 0.10\n",
    "        self.max_y = 0.30\n",
    "        self.LOSE = 0\n",
    "        self.NEUTRAL = 1\n",
    "        self.WIN = 2\n",
    "        self.reset()\n",
    "        \n",
    "    def reset(self):\n",
    "        circle_pos = np.array([\n",
    "            random(self.min_x + 0.04, self.max_x - 0.04),\n",
    "            random(self.min_y + 0.04, self.max_y - 0.04)]\n",
    "        )\n",
    "        self.goal = np.array([\n",
    "            random(self.min_x + 0.04, self.max_x - 0.04),\n",
    "            random(self.min_y + 0.04, self.max_y - 0.04)]\n",
    "        )\n",
    "        while True:\n",
    "            self.eef = np.array([\n",
    "                random(self.min_x, self.max_x),\n",
    "                random(self.min_y, self.max_y)]\n",
    "            )\n",
    "            if np.linalg.norm(self.eef - circle_pos) > 0.03:\n",
    "                break\n",
    "        self.circle = Circle(circle_pos)\n",
    "\n",
    "    @property\n",
    "    def x_size(self):\n",
    "        relative_to_circle = 2\n",
    "        circle_to_goal_distance = 1\n",
    "        return relative_to_circle + circle_to_goal_distance\n",
    "    \n",
    "    @property\n",
    "    def u_size(self):\n",
    "        return 2\n",
    "        \n",
    "    def get_state(self):\n",
    "        # Calculate rotation of circle relative to goal\n",
    "        d = self.circle.pos - self.goal\n",
    "        d_norm = np.linalg.norm(d)\n",
    "        noise = np.random.randn(3) * np.array([0.005, 0.005, 0.005]) * 0.0\n",
    "        if d_norm > 0:\n",
    "            alpha = np.arctan2(d[1], d[0])\n",
    "            rot = np.array([[np.cos(alpha), np.sin(alpha)], [-np.sin(alpha), np.cos(alpha)]])\n",
    "            rel = np.dot(rot, self.eef - self.circle.pos)\n",
    "            return np.array([\n",
    "                rel[0], # eef_x\n",
    "                rel[1],    # eef_y\n",
    "                d_norm  # circle to goal distance\n",
    "            ]) + noise\n",
    "        else:\n",
    "            # If circle is at goal, let eef be on x-axis\n",
    "            return np.array([\n",
    "                np.linalg.norm(self.eef - self.circle.pos), # eef_x\n",
    "                0.0, # eef_y\n",
    "                0.0  # circle to goal distance\n",
    "            ]) + noise\n",
    "    \n",
    "    def step(self, u):\n",
    "        u = u + np.random.randn(*u.shape) * 0.002 * 0.0\n",
    "        d = self.circle.pos - self.goal\n",
    "        d_norm_before = np.linalg.norm(d)\n",
    "        if d_norm_before > 0:\n",
    "            alpha = np.arctan2(d[1], d[0])\n",
    "            rot = np.array([[np.cos(alpha), -np.sin(alpha)], [np.sin(alpha), np.cos(alpha)]])\n",
    "            rel = np.dot(rot, u)\n",
    "            self.eef += rel\n",
    "            self.circle.interact(self.eef)\n",
    "        else:\n",
    "            g2e = self.eef - self.goal\n",
    "            alpha = np.arctan2(g2e[1], g2e[0])\n",
    "            rot = np.array([[np.cos(alpha), -np.sin(alpha)], [np.sin(alpha), np.cos(alpha)]])\n",
    "            u_rot = np.dot(rot, u)\n",
    "            self.eef += u_rot\n",
    "        self.circle.interact(self.eef)\n",
    "        d_after = self.circle.pos - self.goal\n",
    "        d_norm_after = np.linalg.norm(d_after)\n",
    "        eef2circle = np.linalg.norm(self.eef - self.circle.pos)\n",
    "        reward = (\n",
    "            1000 * (d_norm_before - d_norm_after) +\n",
    "            np.exp(-1000 * d_norm_after) +\n",
    "            0.1 * np.exp(-200 * eef2circle)\n",
    "        )\n",
    "        \n",
    "        ## Rewards for noisy task\n",
    "        #reward_cube = 20 * np.exp(-100 * eef2circle)\n",
    "        #reward_goal = 20 * np.exp(-100 * d_norm_after)\n",
    "        #reward = 1.0 * reward_cube + 1.0 * reward_goal\n",
    "        \n",
    "        state = self.NEUTRAL\n",
    "        if d_norm_after > 0.30:\n",
    "            state = self.LOSE\n",
    "        return self.get_state(), reward, state == self.LOSE, state\n",
    "        \n",
    "    def plot(self, ax=None, eef_color='b', circle_alpha=1.0):\n",
    "        import matplotlib.pyplot as plt\n",
    "        if ax is None:\n",
    "            fig, ax = plt.subplots(figsize=(4, 4))\n",
    "        ax.add_artist(plt.Circle(\n",
    "            self.goal,\n",
    "            self.circle.radius,\n",
    "            color='k',\n",
    "        ))\n",
    "        ax.add_artist(plt.Circle(\n",
    "            self.goal,\n",
    "            self.circle.radius - 0.001,\n",
    "            color='w',\n",
    "        ))\n",
    "        ax.add_artist(plt.Circle(\n",
    "            deepcopy(self.circle.pos),\n",
    "            self.circle.radius,\n",
    "            alpha=circle_alpha,\n",
    "            color='r',\n",
    "        ))\n",
    "        ax.plot(*self.eef, '+', color=eef_color)\n",
    "        ax.set_xlim((self.min_x, self.max_x))\n",
    "        ax.set_ylim((self.min_y, self.max_y))\n",
    "\n",
    "env_ddpg = Environment()"
   ]
  },
  {
   "cell_type": "code",
   "execution_count": null,
   "metadata": {
    "collapsed": false
   },
   "outputs": [],
   "source": [
    "critic = Critic(env_ddpg.x_size, env_ddpg.u_size)\n",
    "critic_target = Critic(env_ddpg.x_size, env_ddpg.u_size)\n",
    "actor = Actor(env_ddpg.x_size, env_ddpg.u_size, critic)\n",
    "actor_target = Actor(env_ddpg.x_size, env_ddpg.u_size, critic)\n",
    "critic_target.q.set_weights(critic.q.get_weights())\n",
    "actor_target.u.set_weights(actor.u.get_weights())"
   ]
  },
  {
   "cell_type": "code",
   "execution_count": null,
   "metadata": {
    "collapsed": true
   },
   "outputs": [],
   "source": [
    "actor_target.load_params('./ddpg-actor-params.txt')\n",
    "critic_target.load_params('./ddpg-critic-params.txt')"
   ]
  },
  {
   "cell_type": "code",
   "execution_count": null,
   "metadata": {
    "collapsed": true
   },
   "outputs": [],
   "source": [
    "def sample_batch(buffer, env, size=32):\n",
    "    x_size = env.x_size\n",
    "    X = np.zeros((size, x_size))\n",
    "    Xp = np.zeros((size, x_size))\n",
    "    U = np.zeros((size, 2))\n",
    "    R = np.zeros((size, 1))\n",
    "    S = np.zeros((size, 1))\n",
    "    exp_nodes = []\n",
    "    for i in range(size):\n",
    "        sample = buffer.sample()\n",
    "        exp_nodes.append(sample)\n",
    "        X[i, :] = sample.data['x']\n",
    "        Xp[i, :] = sample.data['xp']\n",
    "        U[i, :] = sample.data['u']\n",
    "        R[i, :] = sample.data['r']\n",
    "        S[i, :] = sample.data['s']\n",
    "    return X, U, Xp, R, S, exp_nodes"
   ]
  },
  {
   "cell_type": "code",
   "execution_count": null,
   "metadata": {
    "collapsed": false
   },
   "outputs": [],
   "source": [
    "def plot_v(actor_f, critic_f, env):\n",
    "    env = deepcopy(env)\n",
    "    x_size = env.get_state().shape[0]\n",
    "    res = 64\n",
    "    xs = np.linspace(env.min_x, env.max_x, res)\n",
    "    ys = np.linspace(env.min_y, env.max_y, res)\n",
    "    xss, yss = np.meshgrid(xs, ys)\n",
    "    zss = np.zeros(xss.shape)\n",
    "    for i, x in enumerate(xs):\n",
    "        for j, y in enumerate(ys):\n",
    "            env.eef = np.array([x, y])\n",
    "            X = env.get_state().reshape(1, env.x_size)\n",
    "            zss[len(ys) - j - 1, i] = critic_f([X, actor_f(X)])\n",
    "    plt.imshow(zss, cmap='inferno', interpolation='gaussian', aspect='auto',\n",
    "               extent=[env.min_x, env.max_x, env.min_y, env.max_y])\n",
    "    plt.plot(*env.goal, 'wo', alpha=0.4, markersize=80, fillstyle='none')\n",
    "    plt.plot(*env.circle.pos, 'ro', alpha=0.2, markersize=80)\n",
    "\n",
    "    plt.xticks(np.linspace(env.min_x, env.max_x, 5))\n",
    "    plt.yticks(np.linspace(env.min_y, env.max_y, 5))\n",
    "    plt.title('$V(\\mathbf{x})$')\n",
    "    plt.colorbar().set_label('$V(\\mathbf{x})$')\n",
    "    \n",
    "env_ddpg.reset()\n",
    "env_ddpg.circle.pos = np.array([-0.03, 0.20])\n",
    "env_ddpg.goal = np.array([0.03, 0.20])\n",
    "plot_v(actor_target.u.predict, critic_target.q.predict, env_ddpg)\n",
    "#plot_v(naf.mu.predict, naf.q.predict, env_naf)\n",
    "plt.show()"
   ]
  },
  {
   "cell_type": "code",
   "execution_count": null,
   "metadata": {
    "collapsed": false
   },
   "outputs": [],
   "source": [
    "def plot_pi(u_func, env, eef=None):\n",
    "    from copy import deepcopy\n",
    "    env = deepcopy(env)\n",
    "    res = 25\n",
    "    for x in np.linspace(env.min_x, env.max_x, res):\n",
    "        for y in np.linspace(env.min_y, env.max_y, res):\n",
    "            env.eef = np.array([x, y])\n",
    "            u = u_func(env.get_state().reshape(1, env.x_size))[0, :]\n",
    "            d = env.circle.pos - env.goal\n",
    "            d_norm = np.linalg.norm(d)\n",
    "            if d_norm > 0:\n",
    "                alpha = np.arctan2(d[1], d[0])\n",
    "                rot = np.array([[np.cos(alpha), -np.sin(alpha)], [np.sin(alpha), np.cos(alpha)]])\n",
    "                rel = np.dot(rot, u)\n",
    "            dx, dy = rel\n",
    "            plt.arrow(x, y, 0.01 * dx, 0.01 * dy, head_width=0.002)\n",
    "    plt.plot(*env.goal, 'ko', alpha=1.0, markersize=80, fillstyle='none')\n",
    "    plt.plot(*env.circle.pos, 'ro', alpha=0.4, markersize=80)\n",
    "    \n",
    "    plt.title('$\\mathbf{\\pi(x)}$')\n",
    "    plt.xlim(env.min_x, env.max_x)\n",
    "    plt.ylim(env.min_y, env.max_y)\n",
    "    \n",
    "env_ddpg.reset()\n",
    "env_ddpg.circle.pos = np.array([-0.03, 0.20])\n",
    "env_ddpg.goal = np.array([0.03, 0.20])\n",
    "plot_pi(actor_target.u.predict, env_ddpg)\n",
    "plt.show()"
   ]
  },
  {
   "cell_type": "code",
   "execution_count": null,
   "metadata": {
    "collapsed": true
   },
   "outputs": [],
   "source": [
    "priority_buffer_ddpg = PriorityBuffer(2 ** 17)"
   ]
  },
  {
   "cell_type": "code",
   "execution_count": null,
   "metadata": {
    "collapsed": false
   },
   "outputs": [],
   "source": [
    "def evaluate(actor_predict_func, env):\n",
    "    n_trials = 16\n",
    "    R = 0.0\n",
    "    for n in range(n_trials):\n",
    "        np.random.seed(n)\n",
    "        env.reset()\n",
    "        for i in range(512):\n",
    "            x = env.get_state().reshape(1, env.x_size)\n",
    "            _, r, _, _ = env.step(env.max_dist * actor_predict_func(x).flatten())\n",
    "            R += 0.99 ** i * r\n",
    "    np.random.seed(datetime.now().microsecond)\n",
    "    return R / n_trials"
   ]
  },
  {
   "cell_type": "code",
   "execution_count": null,
   "metadata": {
    "collapsed": false,
    "scrolled": false
   },
   "outputs": [],
   "source": [
    "i = 0\n",
    "params = []\n",
    "last_reset_ddpg = i\n",
    "batch_size = 64\n",
    "ddpg_evals = []\n",
    "naf_evals = []\n",
    "env_ddpg.reset()\n",
    "n_iterations = 100000\n",
    "for i in range(i, n_iterations):\n",
    "    x = env_ddpg.get_state().reshape(1, env_ddpg.x_size)\n",
    "    epsilon = max(0.1, 1 - 1e-6 * i)\n",
    "    u = (1 - epsilon) * actor.u.predict(x) + epsilon * 2 * (np.random.rand(1, 2) - 0.5)\n",
    "    xp, r, done, state = env_ddpg.step(u.flatten() * env_ddpg.max_dist)\n",
    "    # DDPG\n",
    "    priority_buffer_ddpg.add({\n",
    "        'x': x,\n",
    "        'u': u.flatten(),\n",
    "        'r': r,\n",
    "        'xp': xp.flatten(),\n",
    "        's': state\n",
    "    }).set_value(10.0)\n",
    "    X, U, Xp, R, S, exp_nodes = sample_batch(priority_buffer_ddpg, env_ddpg, size=batch_size)\n",
    "    target_q = R + 0.99 * critic_target.q.predict([Xp, actor_target.u.predict(Xp)])\n",
    "    q = critic.q.predict([X, U])\n",
    "    beta_isac = 1.0 * (n_iterations - i) / n_iterations\n",
    "    [n.set_value(e) for n, e in zip(exp_nodes, beta_isac * abs(target_q - q).flatten() + 1e-9)]\n",
    "    critic.q.fit([X, U], target_q, batch_size=batch_size, nb_epoch=1, verbose=False)\n",
    "    actor.q.fit(X, np.zeros(target_q.shape), batch_size=batch_size, nb_epoch=1, verbose=False)\n",
    "    actor_target.soft_update(actor)\n",
    "    critic_target.soft_update(critic)\n",
    "    if done or i - last_reset_ddpg > 64:\n",
    "        last_reset_ddpg = i\n",
    "        env_ddpg.reset()\n",
    "    \n",
    "    if i % 1000 == 0:\n",
    "        print('epsilon:', epsilon)\n",
    "        print('iteration:', i)\n",
    "        params.append((\n",
    "            actor_target.q.get_weights(),\n",
    "            critic_target.q.get_weights()\n",
    "        ))\n",
    "        #naf_evals.append(evaluate(naf.mu.predict, env_naf))\n",
    "        ddpg_evals.append(evaluate(actor_target.u.predict, env_ddpg))\n",
    "        #naf_handle, = plt.plot(naf_evals, 'g', label='NAF')\n",
    "        ddpg_handle, = plt.plot(ddpg_evals, 'b', label='DDPG')\n",
    "        plt.show()\n",
    "        #env_naf.reset()\n",
    "        #print('naf')\n",
    "        #plt.figure(figsize=(10, 4))\n",
    "        #plt.subplot(121)\n",
    "        #plot_pi(naf.mu.predict, env_naf)\n",
    "        #plt.subplot(122)\n",
    "        #plot_v(naf.mu.predict, naf.q.predict, env_naf)\n",
    "        #plt.show()\n",
    "        env_ddpg.reset()\n",
    "        print('ddpg')\n",
    "        plt.figure(figsize=(10, 4))\n",
    "        plt.subplot(121)\n",
    "        plot_pi(actor_target.u.predict, env_ddpg)\n",
    "        plt.subplot(122)\n",
    "        plot_v(actor_target.u.predict, critic_target.q.predict, env_ddpg)\n",
    "        plt.show()"
   ]
  },
  {
   "cell_type": "code",
   "execution_count": null,
   "metadata": {
    "collapsed": true
   },
   "outputs": [],
   "source": [
    "#ddpg_evals1 = ddpg_evals\n",
    "#ddpg_evals2 = ddpg_evals\n",
    "#params2 = params\n",
    "#ddpg_evals3 = ddpg_evals\n",
    "#params3 = params"
   ]
  },
  {
   "cell_type": "code",
   "execution_count": null,
   "metadata": {
    "collapsed": false
   },
   "outputs": [],
   "source": [
    "plt.plot(ddpg_evals1)\n",
    "plt.plot(ddpg_evals2)\n",
    "plt.plot(ddpg_evals3)\n",
    "plt.ylabel('$\\mathbb{E}(R_1)$')\n",
    "plt.xlabel('Update step')\n",
    "#plt.savefig('ddpg-pushing-sim-several-runs.pdf')\n",
    "plt.show()"
   ]
  },
  {
   "cell_type": "code",
   "execution_count": null,
   "metadata": {
    "collapsed": false
   },
   "outputs": [],
   "source": [
    "ind = np.argmax(ddpg_evals2)\n",
    "best_params = params2[ind]"
   ]
  },
  {
   "cell_type": "code",
   "execution_count": null,
   "metadata": {
    "collapsed": false
   },
   "outputs": [],
   "source": [
    "import pickle\n",
    "with open('ddpg-best-params.pkl', 'wb') as f:\n",
    "    pickle.dump(best_params, f)"
   ]
  },
  {
   "cell_type": "code",
   "execution_count": null,
   "metadata": {
    "collapsed": true
   },
   "outputs": [],
   "source": [
    "actor_target.q.set_weights(best_params[0])\n",
    "critic_target.q.set_weights(best_params[1])"
   ]
  },
  {
   "cell_type": "code",
   "execution_count": null,
   "metadata": {
    "collapsed": false
   },
   "outputs": [],
   "source": [
    "plt.figure(figsize=(12, 4))\n",
    "plt.subplot(121)\n",
    "plot_pi(actor_target.u.predict, env_ddpg)\n",
    "plt.subplot(122)\n",
    "plot_v(actor_target.u.predict, critic_target.q.predict, env_ddpg)\n",
    "#plt.savefig('ddpg-hole-pi-and-v.pdf')\n",
    "plt.show()"
   ]
  },
  {
   "cell_type": "code",
   "execution_count": null,
   "metadata": {
    "collapsed": false
   },
   "outputs": [],
   "source": [
    "n = len(ddpg_evals)\n",
    "plt.plot(np.linspace(0, n * 1000, n), ddpg_evals)\n",
    "plt.ylabel('$\\mathbb{E}(R_1)$')\n",
    "plt.xlabel('Update step')\n",
    "#plt.savefig('ddpg-estimated-return.pdf')\n",
    "plt.show()"
   ]
  },
  {
   "cell_type": "code",
   "execution_count": null,
   "metadata": {
    "collapsed": false,
    "scrolled": true
   },
   "outputs": [],
   "source": [
    "np.random.seed(19)\n",
    "env_ddpg.reset()\n",
    "for j in range(196):\n",
    "    u = actor.u.predict(env_ddpg.get_state().reshape(1, env_ddpg.x_size))\n",
    "    _, r, done, _ = env_ddpg.step(u.flatten() * env_ddpg.max_dist)\n",
    "    if done:\n",
    "        break\n",
    "    env_ddpg.plot()\n",
    "    print(env_ddpg.eef)\n",
    "    plt.savefig('res/animated{:03d}.png'.format(j))\n",
    "    plt.close()"
   ]
  },
  {
   "cell_type": "code",
   "execution_count": null,
   "metadata": {
    "collapsed": false
   },
   "outputs": [],
   "source": [
    "import json\n",
    "\n",
    "def load_params(self, filename):\n",
    "    with open(filename, 'r') as f:\n",
    "        params_list = json.loads(f.read())\n",
    "    [p.set_value(p_saved) for p, p_saved in zip(self.q.weights, params_list)]\n",
    "\n",
    "def save_params(self, filename):\n",
    "    params_list = [p.get_value().tolist() for p in self.q.weights]\n",
    "    with open(filename, 'w') as f:\n",
    "        f.write(json.dumps(params_list))\n",
    "    \n",
    "load_params(actor_target, 'ddpg-actor-params.txt')"
   ]
  },
  {
   "cell_type": "code",
   "execution_count": null,
   "metadata": {
    "collapsed": false
   },
   "outputs": [],
   "source": [
    "actor.q.weights"
   ]
  },
  {
   "cell_type": "code",
   "execution_count": null,
   "metadata": {
    "collapsed": false
   },
   "outputs": [],
   "source": [
    "env.reset()\n",
    "plt.figure(figsize=(12, 4))\n",
    "plt.subplot(121)\n",
    "plot_pi(actor_target, env)\n",
    "plt.subplot(122)\n",
    "plot_v(actor_target, critic_target, env)\n",
    "#plt.savefig('ddgp-pushing-pi-v.pdf')\n",
    "plt.show()"
   ]
  },
  {
   "cell_type": "code",
   "execution_count": null,
   "metadata": {
    "collapsed": false,
    "scrolled": true
   },
   "outputs": [],
   "source": [
    "import pickle\n",
    "with open('experiences.pkl', 'rb') as f:\n",
    "    while True:\n",
    "        try:\n",
    "            d = pickle.load(f)\n",
    "            print(d)\n",
    "        except EOFError:\n",
    "            break"
   ]
  }
 ],
 "metadata": {
  "kernelspec": {
   "display_name": "Python 3",
   "language": "python",
   "name": "python3"
  },
  "language_info": {
   "codemirror_mode": {
    "name": "ipython",
    "version": 3
   },
   "file_extension": ".py",
   "mimetype": "text/x-python",
   "name": "python",
   "nbconvert_exporter": "python",
   "pygments_lexer": "ipython3",
   "version": "3.6.0"
  }
 },
 "nbformat": 4,
 "nbformat_minor": 2
}
